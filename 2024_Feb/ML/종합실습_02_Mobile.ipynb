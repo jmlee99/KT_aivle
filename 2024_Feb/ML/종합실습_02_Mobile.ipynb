{
 "cells": [
  {
   "cell_type": "markdown",
   "metadata": {
    "id": "elUlK1gCJHGh"
   },
   "source": [
    "# 실습 내용\n",
    "\n",
    "- 다양한 알고리즘으로 모델을 만들고 성능을 예측합니다.\n",
    "- 성능이 좋을 것으로 판단된 모델의 성능을 튜닝합니다.\n",
    "- 튜닝된 모델의 성능을 평가합니다."
   ]
  },
  {
   "cell_type": "markdown",
   "metadata": {
    "id": "IciCQGJy5PO-"
   },
   "source": [
    "# 1.환경 준비\n",
    "\n",
    "- 기본 라이브러리와 대상 데이터를 가져와 이후 과정을 준비합니다."
   ]
  },
  {
   "cell_type": "code",
   "execution_count": 1,
   "metadata": {
    "id": "jB0l6oqDsG8B",
    "tags": []
   },
   "outputs": [],
   "source": [
    "# 라이브러리 불러오기\n",
    "import numpy as np\n",
    "import pandas as pd\n",
    "import matplotlib.pyplot as plt\n",
    "import seaborn as sns\n",
    "import warnings\n",
    "\n",
    "warnings.filterwarnings(action='ignore')\n",
    "%config InlineBackend.figure_format = 'retina'"
   ]
  },
  {
   "cell_type": "code",
   "execution_count": 2,
   "metadata": {
    "id": "PXqyu_0LsG8C",
    "tags": []
   },
   "outputs": [],
   "source": [
    "# 데이터 불러오기\n",
    "path = 'https://raw.githubusercontent.com/jangrae/csv/master/mobile_cust_churn.csv'\n",
    "data = pd.read_csv(path)\n",
    "data['CHURN'] = data['CHURN'].map({'STAY':0, 'LEAVE': 1})"
   ]
  },
  {
   "cell_type": "markdown",
   "metadata": {
    "id": "hDHOQrUbNGSK"
   },
   "source": [
    "# 2.데이터 이해\n",
    "\n",
    "- 분석할 데이터를 충분히 이해할 수 있도록 다양한 탐색 과정을 수행합니다."
   ]
  },
  {
   "cell_type": "code",
   "execution_count": 3,
   "metadata": {
    "id": "Z1ahypi3irLz",
    "tags": []
   },
   "outputs": [
    {
     "data": {
      "text/html": [
       "<div>\n",
       "<style scoped>\n",
       "    .dataframe tbody tr th:only-of-type {\n",
       "        vertical-align: middle;\n",
       "    }\n",
       "\n",
       "    .dataframe tbody tr th {\n",
       "        vertical-align: top;\n",
       "    }\n",
       "\n",
       "    .dataframe thead th {\n",
       "        text-align: right;\n",
       "    }\n",
       "</style>\n",
       "<table border=\"1\" class=\"dataframe\">\n",
       "  <thead>\n",
       "    <tr style=\"text-align: right;\">\n",
       "      <th></th>\n",
       "      <th>id</th>\n",
       "      <th>COLLEGE</th>\n",
       "      <th>INCOME</th>\n",
       "      <th>OVERAGE</th>\n",
       "      <th>LEFTOVER</th>\n",
       "      <th>HOUSE</th>\n",
       "      <th>HANDSET_PRICE</th>\n",
       "      <th>OVER_15MINS_CALLS_PER_MONTH</th>\n",
       "      <th>AVERAGE_CALL_DURATION</th>\n",
       "      <th>REPORTED_SATISFACTION</th>\n",
       "      <th>REPORTED_USAGE_LEVEL</th>\n",
       "      <th>CONSIDERING_CHANGE_OF_PLAN</th>\n",
       "      <th>CHURN</th>\n",
       "    </tr>\n",
       "  </thead>\n",
       "  <tbody>\n",
       "    <tr>\n",
       "      <th>0</th>\n",
       "      <td>1</td>\n",
       "      <td>0</td>\n",
       "      <td>31953</td>\n",
       "      <td>0</td>\n",
       "      <td>6</td>\n",
       "      <td>313378</td>\n",
       "      <td>161</td>\n",
       "      <td>0</td>\n",
       "      <td>4</td>\n",
       "      <td>unsat</td>\n",
       "      <td>little</td>\n",
       "      <td>no</td>\n",
       "      <td>0</td>\n",
       "    </tr>\n",
       "    <tr>\n",
       "      <th>1</th>\n",
       "      <td>2</td>\n",
       "      <td>1</td>\n",
       "      <td>36147</td>\n",
       "      <td>0</td>\n",
       "      <td>13</td>\n",
       "      <td>800586</td>\n",
       "      <td>244</td>\n",
       "      <td>0</td>\n",
       "      <td>6</td>\n",
       "      <td>unsat</td>\n",
       "      <td>little</td>\n",
       "      <td>considering</td>\n",
       "      <td>0</td>\n",
       "    </tr>\n",
       "    <tr>\n",
       "      <th>2</th>\n",
       "      <td>3</td>\n",
       "      <td>1</td>\n",
       "      <td>27273</td>\n",
       "      <td>230</td>\n",
       "      <td>0</td>\n",
       "      <td>305049</td>\n",
       "      <td>201</td>\n",
       "      <td>16</td>\n",
       "      <td>15</td>\n",
       "      <td>unsat</td>\n",
       "      <td>very_little</td>\n",
       "      <td>perhaps</td>\n",
       "      <td>0</td>\n",
       "    </tr>\n",
       "    <tr>\n",
       "      <th>3</th>\n",
       "      <td>4</td>\n",
       "      <td>0</td>\n",
       "      <td>120070</td>\n",
       "      <td>38</td>\n",
       "      <td>33</td>\n",
       "      <td>788235</td>\n",
       "      <td>780</td>\n",
       "      <td>3</td>\n",
       "      <td>2</td>\n",
       "      <td>unsat</td>\n",
       "      <td>very_high</td>\n",
       "      <td>considering</td>\n",
       "      <td>1</td>\n",
       "    </tr>\n",
       "    <tr>\n",
       "      <th>4</th>\n",
       "      <td>5</td>\n",
       "      <td>1</td>\n",
       "      <td>29215</td>\n",
       "      <td>208</td>\n",
       "      <td>85</td>\n",
       "      <td>224784</td>\n",
       "      <td>241</td>\n",
       "      <td>21</td>\n",
       "      <td>1</td>\n",
       "      <td>very_unsat</td>\n",
       "      <td>little</td>\n",
       "      <td>never_thought</td>\n",
       "      <td>0</td>\n",
       "    </tr>\n",
       "  </tbody>\n",
       "</table>\n",
       "</div>"
      ],
      "text/plain": [
       "   id  COLLEGE  INCOME  OVERAGE  LEFTOVER   HOUSE  HANDSET_PRICE  \\\n",
       "0   1        0   31953        0         6  313378            161   \n",
       "1   2        1   36147        0        13  800586            244   \n",
       "2   3        1   27273      230         0  305049            201   \n",
       "3   4        0  120070       38        33  788235            780   \n",
       "4   5        1   29215      208        85  224784            241   \n",
       "\n",
       "   OVER_15MINS_CALLS_PER_MONTH  AVERAGE_CALL_DURATION REPORTED_SATISFACTION  \\\n",
       "0                            0                      4                 unsat   \n",
       "1                            0                      6                 unsat   \n",
       "2                           16                     15                 unsat   \n",
       "3                            3                      2                 unsat   \n",
       "4                           21                      1            very_unsat   \n",
       "\n",
       "  REPORTED_USAGE_LEVEL CONSIDERING_CHANGE_OF_PLAN  CHURN  \n",
       "0               little                         no      0  \n",
       "1               little                considering      0  \n",
       "2          very_little                    perhaps      0  \n",
       "3            very_high                considering      1  \n",
       "4               little              never_thought      0  "
      ]
     },
     "execution_count": 3,
     "metadata": {},
     "output_type": "execute_result"
    }
   ],
   "source": [
    "# 데이터 살펴보기\n",
    "data.head()"
   ]
  },
  {
   "cell_type": "markdown",
   "metadata": {
    "id": "h8WFGUaao7fO"
   },
   "source": [
    "**데이터 설명**\n",
    "\n",
    "- COLLEGE: 대학 졸업여부\n",
    "- INCOME: 연수입\n",
    "- OVERAGE: 월평균 초과사용 시간(분)\n",
    "- LEFTOVER: 월평균 잔여시간비율(%)\n",
    "- HOUSE: 집값\n",
    "- HANDSET_PRICE: 스마트폰 가격\n",
    "- OVER_15MINS_CALLS_PER_MONTH: 월평균 장기통화(15분이상) 횟수\n",
    "- AVERAGE_CALL_DURATION: 평균 통화 시간\n",
    "- REPORTED_SATISFACTION: 만족도 설문조사 결과\n",
    "- REPORTED_USAGE_LEVEL: 사용도 자가진단 결과\n",
    "- CONSIDERING_CHANGE_OF_PLAN: 향후 변경계획 설문조사 결과\n",
    "- CHURN: 이탈(번호이동) 여부"
   ]
  },
  {
   "cell_type": "code",
   "execution_count": 4,
   "metadata": {
    "id": "HGHlgWSwtSYh",
    "tags": []
   },
   "outputs": [
    {
     "data": {
      "text/html": [
       "<div>\n",
       "<style scoped>\n",
       "    .dataframe tbody tr th:only-of-type {\n",
       "        vertical-align: middle;\n",
       "    }\n",
       "\n",
       "    .dataframe tbody tr th {\n",
       "        vertical-align: top;\n",
       "    }\n",
       "\n",
       "    .dataframe thead th {\n",
       "        text-align: right;\n",
       "    }\n",
       "</style>\n",
       "<table border=\"1\" class=\"dataframe\">\n",
       "  <thead>\n",
       "    <tr style=\"text-align: right;\">\n",
       "      <th></th>\n",
       "      <th>id</th>\n",
       "      <th>COLLEGE</th>\n",
       "      <th>INCOME</th>\n",
       "      <th>OVERAGE</th>\n",
       "      <th>LEFTOVER</th>\n",
       "      <th>HOUSE</th>\n",
       "      <th>HANDSET_PRICE</th>\n",
       "      <th>OVER_15MINS_CALLS_PER_MONTH</th>\n",
       "      <th>AVERAGE_CALL_DURATION</th>\n",
       "      <th>CHURN</th>\n",
       "    </tr>\n",
       "  </thead>\n",
       "  <tbody>\n",
       "    <tr>\n",
       "      <th>count</th>\n",
       "      <td>20000.000000</td>\n",
       "      <td>20000.000000</td>\n",
       "      <td>20000.000000</td>\n",
       "      <td>20000.000000</td>\n",
       "      <td>20000.000000</td>\n",
       "      <td>20000.000000</td>\n",
       "      <td>20000.000000</td>\n",
       "      <td>20000.000000</td>\n",
       "      <td>20000.000000</td>\n",
       "      <td>20000.000000</td>\n",
       "    </tr>\n",
       "    <tr>\n",
       "      <th>mean</th>\n",
       "      <td>10000.500000</td>\n",
       "      <td>0.502400</td>\n",
       "      <td>80281.447750</td>\n",
       "      <td>85.979550</td>\n",
       "      <td>23.898650</td>\n",
       "      <td>493155.264250</td>\n",
       "      <td>389.615100</td>\n",
       "      <td>8.000700</td>\n",
       "      <td>6.002250</td>\n",
       "      <td>0.492600</td>\n",
       "    </tr>\n",
       "    <tr>\n",
       "      <th>std</th>\n",
       "      <td>5773.647028</td>\n",
       "      <td>0.500007</td>\n",
       "      <td>41680.586319</td>\n",
       "      <td>85.992324</td>\n",
       "      <td>26.816645</td>\n",
       "      <td>252407.884692</td>\n",
       "      <td>213.820682</td>\n",
       "      <td>8.925418</td>\n",
       "      <td>4.402558</td>\n",
       "      <td>0.499958</td>\n",
       "    </tr>\n",
       "    <tr>\n",
       "      <th>min</th>\n",
       "      <td>1.000000</td>\n",
       "      <td>0.000000</td>\n",
       "      <td>20007.000000</td>\n",
       "      <td>-2.000000</td>\n",
       "      <td>0.000000</td>\n",
       "      <td>150002.000000</td>\n",
       "      <td>130.000000</td>\n",
       "      <td>0.000000</td>\n",
       "      <td>1.000000</td>\n",
       "      <td>0.000000</td>\n",
       "    </tr>\n",
       "    <tr>\n",
       "      <th>25%</th>\n",
       "      <td>5000.750000</td>\n",
       "      <td>0.000000</td>\n",
       "      <td>42217.000000</td>\n",
       "      <td>0.000000</td>\n",
       "      <td>0.000000</td>\n",
       "      <td>263714.250000</td>\n",
       "      <td>219.000000</td>\n",
       "      <td>1.000000</td>\n",
       "      <td>2.000000</td>\n",
       "      <td>0.000000</td>\n",
       "    </tr>\n",
       "    <tr>\n",
       "      <th>50%</th>\n",
       "      <td>10000.500000</td>\n",
       "      <td>1.000000</td>\n",
       "      <td>75366.500000</td>\n",
       "      <td>59.000000</td>\n",
       "      <td>14.000000</td>\n",
       "      <td>452259.500000</td>\n",
       "      <td>326.000000</td>\n",
       "      <td>4.000000</td>\n",
       "      <td>5.000000</td>\n",
       "      <td>0.000000</td>\n",
       "    </tr>\n",
       "    <tr>\n",
       "      <th>75%</th>\n",
       "      <td>15000.250000</td>\n",
       "      <td>1.000000</td>\n",
       "      <td>115881.750000</td>\n",
       "      <td>179.000000</td>\n",
       "      <td>41.000000</td>\n",
       "      <td>702378.000000</td>\n",
       "      <td>533.250000</td>\n",
       "      <td>15.000000</td>\n",
       "      <td>10.000000</td>\n",
       "      <td>1.000000</td>\n",
       "    </tr>\n",
       "    <tr>\n",
       "      <th>max</th>\n",
       "      <td>20000.000000</td>\n",
       "      <td>1.000000</td>\n",
       "      <td>159983.000000</td>\n",
       "      <td>335.000000</td>\n",
       "      <td>89.000000</td>\n",
       "      <td>999996.000000</td>\n",
       "      <td>899.000000</td>\n",
       "      <td>29.000000</td>\n",
       "      <td>15.000000</td>\n",
       "      <td>1.000000</td>\n",
       "    </tr>\n",
       "  </tbody>\n",
       "</table>\n",
       "</div>"
      ],
      "text/plain": [
       "                 id       COLLEGE         INCOME       OVERAGE      LEFTOVER  \\\n",
       "count  20000.000000  20000.000000   20000.000000  20000.000000  20000.000000   \n",
       "mean   10000.500000      0.502400   80281.447750     85.979550     23.898650   \n",
       "std     5773.647028      0.500007   41680.586319     85.992324     26.816645   \n",
       "min        1.000000      0.000000   20007.000000     -2.000000      0.000000   \n",
       "25%     5000.750000      0.000000   42217.000000      0.000000      0.000000   \n",
       "50%    10000.500000      1.000000   75366.500000     59.000000     14.000000   \n",
       "75%    15000.250000      1.000000  115881.750000    179.000000     41.000000   \n",
       "max    20000.000000      1.000000  159983.000000    335.000000     89.000000   \n",
       "\n",
       "               HOUSE  HANDSET_PRICE  OVER_15MINS_CALLS_PER_MONTH  \\\n",
       "count   20000.000000   20000.000000                 20000.000000   \n",
       "mean   493155.264250     389.615100                     8.000700   \n",
       "std    252407.884692     213.820682                     8.925418   \n",
       "min    150002.000000     130.000000                     0.000000   \n",
       "25%    263714.250000     219.000000                     1.000000   \n",
       "50%    452259.500000     326.000000                     4.000000   \n",
       "75%    702378.000000     533.250000                    15.000000   \n",
       "max    999996.000000     899.000000                    29.000000   \n",
       "\n",
       "       AVERAGE_CALL_DURATION         CHURN  \n",
       "count           20000.000000  20000.000000  \n",
       "mean                6.002250      0.492600  \n",
       "std                 4.402558      0.499958  \n",
       "min                 1.000000      0.000000  \n",
       "25%                 2.000000      0.000000  \n",
       "50%                 5.000000      0.000000  \n",
       "75%                10.000000      1.000000  \n",
       "max                15.000000      1.000000  "
      ]
     },
     "execution_count": 4,
     "metadata": {},
     "output_type": "execute_result"
    }
   ],
   "source": [
    "# 기술통계 확인\n",
    "data.describe()"
   ]
  },
  {
   "cell_type": "markdown",
   "metadata": {
    "id": "xyfvv8VLTvgu",
    "tags": []
   },
   "source": [
    "# 3.데이터 준비\n",
    "\n",
    "- 전처리 과정을 통해 머신러닝 알고리즘에 사용할 수 있는 형태의 데이터를 준비합니다."
   ]
  },
  {
   "cell_type": "markdown",
   "metadata": {
    "id": "HrqK1qiKo7fP"
   },
   "source": [
    "**1) 변수 제거**"
   ]
  },
  {
   "cell_type": "code",
   "execution_count": 6,
   "metadata": {
    "id": "j6GrJgDeo7fP",
    "tags": []
   },
   "outputs": [
    {
     "data": {
      "text/html": [
       "<div>\n",
       "<style scoped>\n",
       "    .dataframe tbody tr th:only-of-type {\n",
       "        vertical-align: middle;\n",
       "    }\n",
       "\n",
       "    .dataframe tbody tr th {\n",
       "        vertical-align: top;\n",
       "    }\n",
       "\n",
       "    .dataframe thead th {\n",
       "        text-align: right;\n",
       "    }\n",
       "</style>\n",
       "<table border=\"1\" class=\"dataframe\">\n",
       "  <thead>\n",
       "    <tr style=\"text-align: right;\">\n",
       "      <th></th>\n",
       "      <th>COLLEGE</th>\n",
       "      <th>INCOME</th>\n",
       "      <th>OVERAGE</th>\n",
       "      <th>LEFTOVER</th>\n",
       "      <th>HOUSE</th>\n",
       "      <th>HANDSET_PRICE</th>\n",
       "      <th>OVER_15MINS_CALLS_PER_MONTH</th>\n",
       "      <th>AVERAGE_CALL_DURATION</th>\n",
       "      <th>REPORTED_SATISFACTION</th>\n",
       "      <th>REPORTED_USAGE_LEVEL</th>\n",
       "      <th>CONSIDERING_CHANGE_OF_PLAN</th>\n",
       "      <th>CHURN</th>\n",
       "    </tr>\n",
       "  </thead>\n",
       "  <tbody>\n",
       "    <tr>\n",
       "      <th>0</th>\n",
       "      <td>0</td>\n",
       "      <td>31953</td>\n",
       "      <td>0</td>\n",
       "      <td>6</td>\n",
       "      <td>313378</td>\n",
       "      <td>161</td>\n",
       "      <td>0</td>\n",
       "      <td>4</td>\n",
       "      <td>unsat</td>\n",
       "      <td>little</td>\n",
       "      <td>no</td>\n",
       "      <td>0</td>\n",
       "    </tr>\n",
       "    <tr>\n",
       "      <th>1</th>\n",
       "      <td>1</td>\n",
       "      <td>36147</td>\n",
       "      <td>0</td>\n",
       "      <td>13</td>\n",
       "      <td>800586</td>\n",
       "      <td>244</td>\n",
       "      <td>0</td>\n",
       "      <td>6</td>\n",
       "      <td>unsat</td>\n",
       "      <td>little</td>\n",
       "      <td>considering</td>\n",
       "      <td>0</td>\n",
       "    </tr>\n",
       "    <tr>\n",
       "      <th>2</th>\n",
       "      <td>1</td>\n",
       "      <td>27273</td>\n",
       "      <td>230</td>\n",
       "      <td>0</td>\n",
       "      <td>305049</td>\n",
       "      <td>201</td>\n",
       "      <td>16</td>\n",
       "      <td>15</td>\n",
       "      <td>unsat</td>\n",
       "      <td>very_little</td>\n",
       "      <td>perhaps</td>\n",
       "      <td>0</td>\n",
       "    </tr>\n",
       "    <tr>\n",
       "      <th>3</th>\n",
       "      <td>0</td>\n",
       "      <td>120070</td>\n",
       "      <td>38</td>\n",
       "      <td>33</td>\n",
       "      <td>788235</td>\n",
       "      <td>780</td>\n",
       "      <td>3</td>\n",
       "      <td>2</td>\n",
       "      <td>unsat</td>\n",
       "      <td>very_high</td>\n",
       "      <td>considering</td>\n",
       "      <td>1</td>\n",
       "    </tr>\n",
       "    <tr>\n",
       "      <th>4</th>\n",
       "      <td>1</td>\n",
       "      <td>29215</td>\n",
       "      <td>208</td>\n",
       "      <td>85</td>\n",
       "      <td>224784</td>\n",
       "      <td>241</td>\n",
       "      <td>21</td>\n",
       "      <td>1</td>\n",
       "      <td>very_unsat</td>\n",
       "      <td>little</td>\n",
       "      <td>never_thought</td>\n",
       "      <td>0</td>\n",
       "    </tr>\n",
       "  </tbody>\n",
       "</table>\n",
       "</div>"
      ],
      "text/plain": [
       "   COLLEGE  INCOME  OVERAGE  LEFTOVER   HOUSE  HANDSET_PRICE  \\\n",
       "0        0   31953        0         6  313378            161   \n",
       "1        1   36147        0        13  800586            244   \n",
       "2        1   27273      230         0  305049            201   \n",
       "3        0  120070       38        33  788235            780   \n",
       "4        1   29215      208        85  224784            241   \n",
       "\n",
       "   OVER_15MINS_CALLS_PER_MONTH  AVERAGE_CALL_DURATION REPORTED_SATISFACTION  \\\n",
       "0                            0                      4                 unsat   \n",
       "1                            0                      6                 unsat   \n",
       "2                           16                     15                 unsat   \n",
       "3                            3                      2                 unsat   \n",
       "4                           21                      1            very_unsat   \n",
       "\n",
       "  REPORTED_USAGE_LEVEL CONSIDERING_CHANGE_OF_PLAN  CHURN  \n",
       "0               little                         no      0  \n",
       "1               little                considering      0  \n",
       "2          very_little                    perhaps      0  \n",
       "3            very_high                considering      1  \n",
       "4               little              never_thought      0  "
      ]
     },
     "execution_count": 6,
     "metadata": {},
     "output_type": "execute_result"
    }
   ],
   "source": [
    "# 제거 대상: id\n",
    "drop_cols = ['id']\n",
    "\n",
    "# 변수 제거\n",
    "data.drop(drop_cols, axis=1, inplace = True)\n",
    "\n",
    "# 확인\n",
    "data.head()"
   ]
  },
  {
   "cell_type": "markdown",
   "metadata": {
    "id": "qbyV3l1m1b03"
   },
   "source": [
    "**2) x, y 분리**"
   ]
  },
  {
   "cell_type": "code",
   "execution_count": 7,
   "metadata": {
    "id": "B1oiY7x4uO8m",
    "tags": []
   },
   "outputs": [],
   "source": [
    "# Target 설정\n",
    "target = 'CHURN'\n",
    "# 데이터 분리\n",
    "x = data.drop(target, axis=1)\n",
    "y = data.loc[:, target]"
   ]
  },
  {
   "cell_type": "markdown",
   "metadata": {
    "id": "pWDkjBmXo7fP"
   },
   "source": [
    "**3) 가변수화**"
   ]
  },
  {
   "cell_type": "code",
   "execution_count": 9,
   "metadata": {
    "id": "pNMEYJtmo7fP",
    "tags": []
   },
   "outputs": [
    {
     "data": {
      "text/html": [
       "<div>\n",
       "<style scoped>\n",
       "    .dataframe tbody tr th:only-of-type {\n",
       "        vertical-align: middle;\n",
       "    }\n",
       "\n",
       "    .dataframe tbody tr th {\n",
       "        vertical-align: top;\n",
       "    }\n",
       "\n",
       "    .dataframe thead th {\n",
       "        text-align: right;\n",
       "    }\n",
       "</style>\n",
       "<table border=\"1\" class=\"dataframe\">\n",
       "  <thead>\n",
       "    <tr style=\"text-align: right;\">\n",
       "      <th></th>\n",
       "      <th>COLLEGE</th>\n",
       "      <th>INCOME</th>\n",
       "      <th>OVERAGE</th>\n",
       "      <th>LEFTOVER</th>\n",
       "      <th>HOUSE</th>\n",
       "      <th>HANDSET_PRICE</th>\n",
       "      <th>OVER_15MINS_CALLS_PER_MONTH</th>\n",
       "      <th>AVERAGE_CALL_DURATION</th>\n",
       "      <th>REPORTED_SATISFACTION_sat</th>\n",
       "      <th>REPORTED_SATISFACTION_unsat</th>\n",
       "      <th>REPORTED_SATISFACTION_very_sat</th>\n",
       "      <th>REPORTED_SATISFACTION_very_unsat</th>\n",
       "      <th>REPORTED_USAGE_LEVEL_high</th>\n",
       "      <th>REPORTED_USAGE_LEVEL_little</th>\n",
       "      <th>REPORTED_USAGE_LEVEL_very_high</th>\n",
       "      <th>REPORTED_USAGE_LEVEL_very_little</th>\n",
       "      <th>CONSIDERING_CHANGE_OF_PLAN_considering</th>\n",
       "      <th>CONSIDERING_CHANGE_OF_PLAN_never_thought</th>\n",
       "      <th>CONSIDERING_CHANGE_OF_PLAN_no</th>\n",
       "      <th>CONSIDERING_CHANGE_OF_PLAN_perhaps</th>\n",
       "    </tr>\n",
       "  </thead>\n",
       "  <tbody>\n",
       "    <tr>\n",
       "      <th>0</th>\n",
       "      <td>0</td>\n",
       "      <td>31953</td>\n",
       "      <td>0</td>\n",
       "      <td>6</td>\n",
       "      <td>313378</td>\n",
       "      <td>161</td>\n",
       "      <td>0</td>\n",
       "      <td>4</td>\n",
       "      <td>0</td>\n",
       "      <td>1</td>\n",
       "      <td>0</td>\n",
       "      <td>0</td>\n",
       "      <td>0</td>\n",
       "      <td>1</td>\n",
       "      <td>0</td>\n",
       "      <td>0</td>\n",
       "      <td>0</td>\n",
       "      <td>0</td>\n",
       "      <td>1</td>\n",
       "      <td>0</td>\n",
       "    </tr>\n",
       "    <tr>\n",
       "      <th>1</th>\n",
       "      <td>1</td>\n",
       "      <td>36147</td>\n",
       "      <td>0</td>\n",
       "      <td>13</td>\n",
       "      <td>800586</td>\n",
       "      <td>244</td>\n",
       "      <td>0</td>\n",
       "      <td>6</td>\n",
       "      <td>0</td>\n",
       "      <td>1</td>\n",
       "      <td>0</td>\n",
       "      <td>0</td>\n",
       "      <td>0</td>\n",
       "      <td>1</td>\n",
       "      <td>0</td>\n",
       "      <td>0</td>\n",
       "      <td>1</td>\n",
       "      <td>0</td>\n",
       "      <td>0</td>\n",
       "      <td>0</td>\n",
       "    </tr>\n",
       "    <tr>\n",
       "      <th>2</th>\n",
       "      <td>1</td>\n",
       "      <td>27273</td>\n",
       "      <td>230</td>\n",
       "      <td>0</td>\n",
       "      <td>305049</td>\n",
       "      <td>201</td>\n",
       "      <td>16</td>\n",
       "      <td>15</td>\n",
       "      <td>0</td>\n",
       "      <td>1</td>\n",
       "      <td>0</td>\n",
       "      <td>0</td>\n",
       "      <td>0</td>\n",
       "      <td>0</td>\n",
       "      <td>0</td>\n",
       "      <td>1</td>\n",
       "      <td>0</td>\n",
       "      <td>0</td>\n",
       "      <td>0</td>\n",
       "      <td>1</td>\n",
       "    </tr>\n",
       "    <tr>\n",
       "      <th>3</th>\n",
       "      <td>0</td>\n",
       "      <td>120070</td>\n",
       "      <td>38</td>\n",
       "      <td>33</td>\n",
       "      <td>788235</td>\n",
       "      <td>780</td>\n",
       "      <td>3</td>\n",
       "      <td>2</td>\n",
       "      <td>0</td>\n",
       "      <td>1</td>\n",
       "      <td>0</td>\n",
       "      <td>0</td>\n",
       "      <td>0</td>\n",
       "      <td>0</td>\n",
       "      <td>1</td>\n",
       "      <td>0</td>\n",
       "      <td>1</td>\n",
       "      <td>0</td>\n",
       "      <td>0</td>\n",
       "      <td>0</td>\n",
       "    </tr>\n",
       "    <tr>\n",
       "      <th>4</th>\n",
       "      <td>1</td>\n",
       "      <td>29215</td>\n",
       "      <td>208</td>\n",
       "      <td>85</td>\n",
       "      <td>224784</td>\n",
       "      <td>241</td>\n",
       "      <td>21</td>\n",
       "      <td>1</td>\n",
       "      <td>0</td>\n",
       "      <td>0</td>\n",
       "      <td>0</td>\n",
       "      <td>1</td>\n",
       "      <td>0</td>\n",
       "      <td>1</td>\n",
       "      <td>0</td>\n",
       "      <td>0</td>\n",
       "      <td>0</td>\n",
       "      <td>1</td>\n",
       "      <td>0</td>\n",
       "      <td>0</td>\n",
       "    </tr>\n",
       "  </tbody>\n",
       "</table>\n",
       "</div>"
      ],
      "text/plain": [
       "   COLLEGE  INCOME  OVERAGE  LEFTOVER   HOUSE  HANDSET_PRICE  \\\n",
       "0        0   31953        0         6  313378            161   \n",
       "1        1   36147        0        13  800586            244   \n",
       "2        1   27273      230         0  305049            201   \n",
       "3        0  120070       38        33  788235            780   \n",
       "4        1   29215      208        85  224784            241   \n",
       "\n",
       "   OVER_15MINS_CALLS_PER_MONTH  AVERAGE_CALL_DURATION  \\\n",
       "0                            0                      4   \n",
       "1                            0                      6   \n",
       "2                           16                     15   \n",
       "3                            3                      2   \n",
       "4                           21                      1   \n",
       "\n",
       "   REPORTED_SATISFACTION_sat  REPORTED_SATISFACTION_unsat  \\\n",
       "0                          0                            1   \n",
       "1                          0                            1   \n",
       "2                          0                            1   \n",
       "3                          0                            1   \n",
       "4                          0                            0   \n",
       "\n",
       "   REPORTED_SATISFACTION_very_sat  REPORTED_SATISFACTION_very_unsat  \\\n",
       "0                               0                                 0   \n",
       "1                               0                                 0   \n",
       "2                               0                                 0   \n",
       "3                               0                                 0   \n",
       "4                               0                                 1   \n",
       "\n",
       "   REPORTED_USAGE_LEVEL_high  REPORTED_USAGE_LEVEL_little  \\\n",
       "0                          0                            1   \n",
       "1                          0                            1   \n",
       "2                          0                            0   \n",
       "3                          0                            0   \n",
       "4                          0                            1   \n",
       "\n",
       "   REPORTED_USAGE_LEVEL_very_high  REPORTED_USAGE_LEVEL_very_little  \\\n",
       "0                               0                                 0   \n",
       "1                               0                                 0   \n",
       "2                               0                                 1   \n",
       "3                               1                                 0   \n",
       "4                               0                                 0   \n",
       "\n",
       "   CONSIDERING_CHANGE_OF_PLAN_considering  \\\n",
       "0                                       0   \n",
       "1                                       1   \n",
       "2                                       0   \n",
       "3                                       1   \n",
       "4                                       0   \n",
       "\n",
       "   CONSIDERING_CHANGE_OF_PLAN_never_thought  CONSIDERING_CHANGE_OF_PLAN_no  \\\n",
       "0                                         0                              1   \n",
       "1                                         0                              0   \n",
       "2                                         0                              0   \n",
       "3                                         0                              0   \n",
       "4                                         1                              0   \n",
       "\n",
       "   CONSIDERING_CHANGE_OF_PLAN_perhaps  \n",
       "0                                   0  \n",
       "1                                   0  \n",
       "2                                   1  \n",
       "3                                   0  \n",
       "4                                   0  "
      ]
     },
     "execution_count": 9,
     "metadata": {},
     "output_type": "execute_result"
    }
   ],
   "source": [
    "# 가변수화 대상: REPORTED_SATISFACTION, REPORTED_USAGE_LEVEL, CONSIDERING_CHANGE_OF_PLAN\n",
    "dumm_cols = ['REPORTED_SATISFACTION', 'REPORTED_USAGE_LEVEL', 'CONSIDERING_CHANGE_OF_PLAN']\n",
    "\n",
    "# 가변수화\n",
    "x = pd.get_dummies(x, columns=dumm_cols, drop_first=True, dtype=int)\n",
    "\n",
    "# 확인\n",
    "x.head()"
   ]
  },
  {
   "cell_type": "markdown",
   "metadata": {
    "id": "JyUW2Hxm1hIW"
   },
   "source": [
    "**4) 학습용, 평가용 데이터 분리**"
   ]
  },
  {
   "cell_type": "code",
   "execution_count": 10,
   "metadata": {
    "id": "vGgJGFX5ZAn8",
    "tags": []
   },
   "outputs": [],
   "source": [
    "# 모듈 불러오기\n",
    "from sklearn.model_selection import train_test_split\n",
    "\n",
    "# 7:3으로 분리\n",
    "x_train, x_test, y_train, y_test = train_test_split(x, y, test_size=0.3, random_state=1)"
   ]
  },
  {
   "cell_type": "markdown",
   "metadata": {
    "id": "le8JutGRo7fQ"
   },
   "source": [
    "**5) 정규화**"
   ]
  },
  {
   "cell_type": "code",
   "execution_count": 11,
   "metadata": {
    "id": "ErKzbKJIFL2B",
    "tags": []
   },
   "outputs": [],
   "source": [
    "# 모듈 불러오기\n",
    "from sklearn.preprocessing import MinMaxScaler\n",
    "\n",
    "# 정규화\n",
    "scaler = MinMaxScaler()\n",
    "x_train_s = scaler.fit_transform(x_train)\n",
    "x_test_s = scaler.fit_transform(x_test)\n"
   ]
  },
  {
   "cell_type": "markdown",
   "metadata": {
    "id": "BYr1vtpd8uw4",
    "tags": []
   },
   "source": [
    "# 4.성능 예측\n",
    "\n",
    "- 여러 알고리즘으로 모델을 만들고 K-Fold CV로 성능을 예측합니다.\n",
    "- 하이퍼파라미터를 설정하지 않고 진행합니다.\n",
    "- 각 모델의 성능 정보를 수집해 마지막에 비교합니다."
   ]
  },
  {
   "cell_type": "code",
   "execution_count": null,
   "metadata": {
    "id": "zFD1OZawo7fQ"
   },
   "outputs": [],
   "source": [
    "# xgboost 설치\n",
    "# !pip install xgboost"
   ]
  },
  {
   "cell_type": "code",
   "execution_count": null,
   "metadata": {
    "id": "fJmcMSxwo7fQ"
   },
   "outputs": [],
   "source": [
    "# lightgbm 설치\n",
    "# !pip install lightgbm"
   ]
  },
  {
   "cell_type": "markdown",
   "metadata": {
    "id": "m8yVaP3io7fQ"
   },
   "source": [
    "- 이후 사용할 함수를 모두 불러옵니다."
   ]
  },
  {
   "cell_type": "code",
   "execution_count": 12,
   "metadata": {
    "id": "ljkQHcHio7fQ",
    "tags": []
   },
   "outputs": [],
   "source": [
    "# 불러오기\n",
    "from sklearn.neighbors import KNeighborsClassifier\n",
    "from sklearn.tree import DecisionTreeClassifier\n",
    "from sklearn.linear_model import LogisticRegression\n",
    "from sklearn.ensemble import RandomForestClassifier\n",
    "from xgboost import XGBClassifier\n",
    "from lightgbm import LGBMClassifier\n",
    "\n",
    "from sklearn.model_selection import cross_val_score, GridSearchCV\n",
    "from sklearn.metrics import confusion_matrix, classification_report"
   ]
  },
  {
   "cell_type": "markdown",
   "metadata": {
    "id": "9pqwajKFyK4F"
   },
   "source": [
    "**1) KNN**\n",
    "\n",
    "- KNN 알고리즘으로 모델링하고 K-Fold CV로 성능을 검증합니다."
   ]
  },
  {
   "cell_type": "code",
   "execution_count": 39,
   "metadata": {
    "id": "ziotuce6yK4G",
    "tags": []
   },
   "outputs": [],
   "source": [
    "# 선언하기\n",
    "model = KNeighborsClassifier(n_neighbors=10)"
   ]
  },
  {
   "cell_type": "code",
   "execution_count": 40,
   "metadata": {
    "id": "J-zashLGyK4H",
    "tags": []
   },
   "outputs": [],
   "source": [
    "# 성능예측\n",
    "cv_score = cross_val_score(model, x_train_s, y_train, cv=10)"
   ]
  },
  {
   "cell_type": "code",
   "execution_count": 41,
   "metadata": {
    "id": "EBCuF7oRo7fR",
    "tags": []
   },
   "outputs": [
    {
     "name": "stdout",
     "output_type": "stream",
     "text": [
      "[0.58071429 0.605      0.60928571 0.60571429 0.60857143 0.57714286\n",
      " 0.62       0.61357143 0.61857143 0.61142857]\n",
      "0.605\n"
     ]
    }
   ],
   "source": [
    "# 결과확인\n",
    "print(cv_score)\n",
    "print(cv_score.mean())"
   ]
  },
  {
   "cell_type": "code",
   "execution_count": 42,
   "metadata": {
    "id": "2KMvCx_-yK4H",
    "tags": []
   },
   "outputs": [],
   "source": [
    "# 결과수집\n",
    "result = {}\n",
    "result['KNN'] = cv_score.mean()"
   ]
  },
  {
   "cell_type": "markdown",
   "metadata": {
    "id": "_2Dzy1phyWRM"
   },
   "source": [
    "**2) Decision Tree**\n",
    "\n",
    "- Decision Tree 알고리즘으로 모델링하고 K-Fold CV로 성능을 검증합니다."
   ]
  },
  {
   "cell_type": "code",
   "execution_count": 46,
   "metadata": {
    "id": "ybD45GpKo7fR",
    "tags": []
   },
   "outputs": [],
   "source": [
    "# 선언하기\n",
    "model = DecisionTreeClassifier(max_depth=5, random_state=1)"
   ]
  },
  {
   "cell_type": "code",
   "execution_count": 47,
   "metadata": {
    "id": "cJi-W8WMo7fR",
    "tags": []
   },
   "outputs": [],
   "source": [
    "# 성능예측\n",
    "cv_score = cross_val_score(model, x_train, y_train, cv=10)"
   ]
  },
  {
   "cell_type": "code",
   "execution_count": 48,
   "metadata": {
    "id": "EAUGFEbao7fR",
    "tags": []
   },
   "outputs": [
    {
     "name": "stdout",
     "output_type": "stream",
     "text": [
      "[0.69857143 0.69142857 0.69857143 0.69285714 0.69428571 0.695\n",
      " 0.70857143 0.69142857 0.70428571 0.70285714]\n",
      "0.6977857142857143\n"
     ]
    }
   ],
   "source": [
    "# 결과확인\n",
    "print(cv_score)\n",
    "print(cv_score.mean())"
   ]
  },
  {
   "cell_type": "code",
   "execution_count": 49,
   "metadata": {
    "id": "2DCWXNaCo7fR",
    "tags": []
   },
   "outputs": [],
   "source": [
    "# 결과수집\n",
    "result['Decision Tree'] = cv_score.mean()"
   ]
  },
  {
   "cell_type": "markdown",
   "metadata": {
    "id": "SaQ4R4mho7fR"
   },
   "source": [
    "**3) Logistic Regression**\n",
    "\n",
    "- Logistic Regression 알고리즘으로 모델링하고 K-Fold CV로 성능을 검증합니다."
   ]
  },
  {
   "cell_type": "code",
   "execution_count": 50,
   "metadata": {
    "id": "docC3N3to7fR",
    "tags": []
   },
   "outputs": [],
   "source": [
    "# 선언하기\n",
    "model = LogisticRegression()"
   ]
  },
  {
   "cell_type": "code",
   "execution_count": 51,
   "metadata": {
    "id": "S9vF0zWEo7fR",
    "tags": []
   },
   "outputs": [],
   "source": [
    "# 성능예측\n",
    "cv_score = cross_val_score(model, x_train, y_train, cv=10)"
   ]
  },
  {
   "cell_type": "code",
   "execution_count": 52,
   "metadata": {
    "id": "3lgGcalJo7fW",
    "tags": []
   },
   "outputs": [
    {
     "name": "stdout",
     "output_type": "stream",
     "text": [
      "[0.62642857 0.63       0.63142857 0.64285714 0.62571429 0.62571429\n",
      " 0.64928571 0.63642857 0.65285714 0.62142857]\n",
      "0.6342142857142857\n"
     ]
    }
   ],
   "source": [
    "# 결과확인\n",
    "print(cv_score)\n",
    "print(cv_score.mean())"
   ]
  },
  {
   "cell_type": "code",
   "execution_count": 53,
   "metadata": {
    "id": "BP84ZI0Mo7fW",
    "tags": []
   },
   "outputs": [],
   "source": [
    "# 결과수집\n",
    "result['Logistic Regression'] = cv_score.mean()"
   ]
  },
  {
   "cell_type": "markdown",
   "metadata": {
    "id": "b0crO5W_ygXk"
   },
   "source": [
    "**4) Random Forest**\n",
    "\n",
    "- Random Forest 알고리즘으로 모델링하고 K-Fold CV로 성능을 검증합니다."
   ]
  },
  {
   "cell_type": "code",
   "execution_count": 54,
   "metadata": {
    "id": "w5z7w6sho7fW",
    "tags": []
   },
   "outputs": [],
   "source": [
    "# 선언하기\n",
    "model = RandomForestClassifier(max_depth=5, random_state=1)"
   ]
  },
  {
   "cell_type": "code",
   "execution_count": 55,
   "metadata": {
    "id": "rnURPJaZo7fW",
    "tags": []
   },
   "outputs": [],
   "source": [
    "# 성능예측\n",
    "cv_score = cross_val_score(model, x_train, y_train, cv=10)"
   ]
  },
  {
   "cell_type": "code",
   "execution_count": null,
   "metadata": {
    "id": "rA68gDzzo7fW"
   },
   "outputs": [],
   "source": [
    "# 결과확인\n",
    "print(cv_score)\n",
    "print(cv_score.mean())"
   ]
  },
  {
   "cell_type": "code",
   "execution_count": null,
   "metadata": {
    "id": "ZD43ZGLKo7fW"
   },
   "outputs": [],
   "source": [
    "# 결과수집\n",
    "result['Random Forest'] = cv_score.mean()"
   ]
  },
  {
   "cell_type": "markdown",
   "metadata": {
    "id": "OfBvePtkys70"
   },
   "source": [
    "**5) XGBoost**\n",
    "\n",
    "- XGBoost 알고리즘으로 모델링하고 K-Fold CV로 성능을 검증합니다."
   ]
  },
  {
   "cell_type": "code",
   "execution_count": 56,
   "metadata": {
    "id": "subPApuYo7fX",
    "tags": []
   },
   "outputs": [],
   "source": [
    "# 선언하기\n",
    "model = XGBClassifier(max_depth=5, random_state = 1)"
   ]
  },
  {
   "cell_type": "code",
   "execution_count": 59,
   "metadata": {
    "id": "1VfoxEzSo7fX",
    "tags": []
   },
   "outputs": [],
   "source": [
    "# 성능예측\n",
    "cv_score = cross_val_score(model, x_train, y_train, cv=10)"
   ]
  },
  {
   "cell_type": "code",
   "execution_count": 60,
   "metadata": {
    "id": "y1CrdPOMo7fX",
    "tags": []
   },
   "outputs": [
    {
     "name": "stdout",
     "output_type": "stream",
     "text": [
      "[0.68571429 0.66571429 0.70428571 0.69071429 0.66857143 0.69071429\n",
      " 0.69571429 0.67785714 0.70142857 0.68785714]\n",
      "0.6868571428571428\n"
     ]
    }
   ],
   "source": [
    "# 결과확인\n",
    "print(cv_score)\n",
    "print(cv_score.mean())"
   ]
  },
  {
   "cell_type": "code",
   "execution_count": 58,
   "metadata": {
    "id": "r8IUGl-zo7fX",
    "tags": []
   },
   "outputs": [],
   "source": [
    "# 결과수집\n",
    "result['XGBoost'] = cv_score.mean()"
   ]
  },
  {
   "cell_type": "markdown",
   "metadata": {
    "id": "3AlpQwRfo7fX"
   },
   "source": [
    "**6) LightGBM**\n",
    "\n",
    "- LightGBM 알고리즘으로 모델링하고 K-Fold CV로 성능을 검증합니다."
   ]
  },
  {
   "cell_type": "code",
   "execution_count": 62,
   "metadata": {
    "id": "dVIPdCHSo7fX",
    "tags": []
   },
   "outputs": [],
   "source": [
    "# 선언하기\n",
    "model = LGBMClassifier(max_depth=5, random_state = 1, verbose = -1)"
   ]
  },
  {
   "cell_type": "code",
   "execution_count": 63,
   "metadata": {
    "id": "wuiPab1Yo7fX",
    "tags": []
   },
   "outputs": [],
   "source": [
    "# 성능예측\n",
    "cv_score = cross_val_score(model, x_train, y_train, cv=10)"
   ]
  },
  {
   "cell_type": "code",
   "execution_count": 65,
   "metadata": {
    "id": "GSfJXEoko7fX",
    "tags": []
   },
   "outputs": [
    {
     "name": "stdout",
     "output_type": "stream",
     "text": [
      "[0.68571429 0.69       0.71642857 0.685      0.68       0.69142857\n",
      " 0.70071429 0.685      0.705      0.70571429]\n",
      "0.6944999999999999\n"
     ]
    }
   ],
   "source": [
    "# 결과확인\n",
    "print(cv_score)\n",
    "print(cv_score.mean())"
   ]
  },
  {
   "cell_type": "code",
   "execution_count": 66,
   "metadata": {
    "id": "06Gm1YXVo7fX",
    "tags": []
   },
   "outputs": [],
   "source": [
    "# 결과수집\n",
    "result['LightGBM'] = cv_score.mean()"
   ]
  },
  {
   "cell_type": "markdown",
   "metadata": {
    "id": "oNJkZvOeo7fY"
   },
   "source": [
    "# 5.결과 확인\n",
    "\n",
    "- 예측된 각 모델의 성능을 비교합니다."
   ]
  },
  {
   "cell_type": "code",
   "execution_count": 67,
   "metadata": {
    "id": "uGEaW8TFo7fY",
    "tags": []
   },
   "outputs": [
    {
     "name": "stdout",
     "output_type": "stream",
     "text": [
      "========================================\n",
      "KNN 0.605\n",
      "Decision Tree 0.698\n",
      "Logistic Regression 0.634\n",
      "XGBoost 0.696\n",
      "LightGBM 0.694\n",
      "========================================\n"
     ]
    }
   ],
   "source": [
    "# 성능 비교\n",
    "print('=' * 40)\n",
    "for m_name, score in result.items():\n",
    "    print(m_name, score.round(3))\n",
    "print('=' * 40)"
   ]
  },
  {
   "cell_type": "code",
   "execution_count": 68,
   "metadata": {
    "id": "dTk_PIy9o7fY",
    "tags": []
   },
   "outputs": [
    {
     "data": {
      "image/png": "[encoded data removed]",
      "text/plain": [
       "<Figure size 640x480 with 1 Axes>"
      ]
     },
     "metadata": {
      "image/png": {
       "height": 413,
       "width": 659
      }
     },
     "output_type": "display_data"
    }
   ],
   "source": [
    "# 성능 시각화 비교\n",
    "plt.barh(list(result.keys()), result.values())\n",
    "plt.show()"
   ]
  },
  {
   "cell_type": "markdown",
   "metadata": {
    "id": "smLz8rIko7fY"
   },
   "source": [
    "# 6.성능 튜닝\n",
    "\n",
    "- 위에서 성능이 가장 좋을 것으로 예측된 모델을 튜닝합니다.\n",
    "- 본 실습에서는 LightGBM 모델 성능을 튜닝합니다."
   ]
  },
  {
   "cell_type": "code",
   "execution_count": 69,
   "metadata": {
    "id": "UUuryshYo7fY",
    "tags": []
   },
   "outputs": [],
   "source": [
    "# 기본 모델 선언\n",
    "model_dt = LGBMClassifier(max_depth=5, random_state=1, verbose=-1)\n",
    "\n",
    "# 파라미터 지정\n",
    "  # max_depth: range(1, 21)\n",
    "params = {'max_depth' : range(1, 21)}\n",
    "\n",
    "# 모델 선언\n",
    "model = GridSearchCV(model_dt,\n",
    "                      params,\n",
    "                      cv=5,\n",
    "                    scoring='accuracy')"
   ]
  },
  {
   "cell_type": "code",
   "execution_count": 70,
   "metadata": {
    "id": "VEufMee5o7fY",
    "tags": []
   },
   "outputs": [
    {
     "data": {
      "text/html": [
       "<style>#sk-container-id-1 {color: black;}#sk-container-id-1 pre{padding: 0;}#sk-container-id-1 div.sk-toggleable {background-color: white;}#sk-container-id-1 label.sk-toggleable__label {cursor: pointer;display: block;width: 100%;margin-bottom: 0;padding: 0.3em;box-sizing: border-box;text-align: center;}#sk-container-id-1 label.sk-toggleable__label-arrow:before {content: \"▸\";float: left;margin-right: 0.25em;color: #696969;}#sk-container-id-1 label.sk-toggleable__label-arrow:hover:before {color: black;}#sk-container-id-1 div.sk-estimator:hover label.sk-toggleable__label-arrow:before {color: black;}#sk-container-id-1 div.sk-toggleable__content {max-height: 0;max-width: 0;overflow: hidden;text-align: left;background-color: #f0f8ff;}#sk-container-id-1 div.sk-toggleable__content pre {margin: 0.2em;color: black;border-radius: 0.25em;background-color: #f0f8ff;}#sk-container-id-1 input.sk-toggleable__control:checked~div.sk-toggleable__content {max-height: 200px;max-width: 100%;overflow: auto;}#sk-container-id-1 input.sk-toggleable__control:checked~label.sk-toggleable__label-arrow:before {content: \"▾\";}#sk-container-id-1 div.sk-estimator input.sk-toggleable__control:checked~label.sk-toggleable__label {background-color: #d4ebff;}#sk-container-id-1 div.sk-label input.sk-toggleable__control:checked~label.sk-toggleable__label {background-color: #d4ebff;}#sk-container-id-1 input.sk-hidden--visually {border: 0;clip: rect(1px 1px 1px 1px);clip: rect(1px, 1px, 1px, 1px);height: 1px;margin: -1px;overflow: hidden;padding: 0;position: absolute;width: 1px;}#sk-container-id-1 div.sk-estimator {font-family: monospace;background-color: #f0f8ff;border: 1px dotted black;border-radius: 0.25em;box-sizing: border-box;margin-bottom: 0.5em;}#sk-container-id-1 div.sk-estimator:hover {background-color: #d4ebff;}#sk-container-id-1 div.sk-parallel-item::after {content: \"\";width: 100%;border-bottom: 1px solid gray;flex-grow: 1;}#sk-container-id-1 div.sk-label:hover label.sk-toggleable__label {background-color: #d4ebff;}#sk-container-id-1 div.sk-serial::before {content: \"\";position: absolute;border-left: 1px solid gray;box-sizing: border-box;top: 0;bottom: 0;left: 50%;z-index: 0;}#sk-container-id-1 div.sk-serial {display: flex;flex-direction: column;align-items: center;background-color: white;padding-right: 0.2em;padding-left: 0.2em;position: relative;}#sk-container-id-1 div.sk-item {position: relative;z-index: 1;}#sk-container-id-1 div.sk-parallel {display: flex;align-items: stretch;justify-content: center;background-color: white;position: relative;}#sk-container-id-1 div.sk-item::before, #sk-container-id-1 div.sk-parallel-item::before {content: \"\";position: absolute;border-left: 1px solid gray;box-sizing: border-box;top: 0;bottom: 0;left: 50%;z-index: -1;}#sk-container-id-1 div.sk-parallel-item {display: flex;flex-direction: column;z-index: 1;position: relative;background-color: white;}#sk-container-id-1 div.sk-parallel-item:first-child::after {align-self: flex-end;width: 50%;}#sk-container-id-1 div.sk-parallel-item:last-child::after {align-self: flex-start;width: 50%;}#sk-container-id-1 div.sk-parallel-item:only-child::after {width: 0;}#sk-container-id-1 div.sk-dashed-wrapped {border: 1px dashed gray;margin: 0 0.4em 0.5em 0.4em;box-sizing: border-box;padding-bottom: 0.4em;background-color: white;}#sk-container-id-1 div.sk-label label {font-family: monospace;font-weight: bold;display: inline-block;line-height: 1.2em;}#sk-container-id-1 div.sk-label-container {text-align: center;}#sk-container-id-1 div.sk-container {/* jupyter's `normalize.less` sets `[hidden] { display: none; }` but bootstrap.min.css set `[hidden] { display: none !important; }` so we also need the `!important` here to be able to override the default hidden behavior on the sphinx rendered scikit-learn.org. See: https://github.com/scikit-learn/scikit-learn/issues/21755 */display: inline-block !important;position: relative;}#sk-container-id-1 div.sk-text-repr-fallback {display: none;}</style><div id=\"sk-container-id-1\" class=\"sk-top-container\"><div class=\"sk-text-repr-fallback\"><pre>GridSearchCV(cv=5,\n",
       "             estimator=LGBMClassifier(max_depth=5, random_state=1, verbose=-1),\n",
       "             param_grid={&#x27;max_depth&#x27;: range(1, 21)}, scoring=&#x27;accuracy&#x27;)</pre><b>In a Jupyter environment, please rerun this cell to show the HTML representation or trust the notebook. <br />On GitHub, the HTML representation is unable to render, please try loading this page with nbviewer.org.</b></div><div class=\"sk-container\" hidden><div class=\"sk-item sk-dashed-wrapped\"><div class=\"sk-label-container\"><div class=\"sk-label sk-toggleable\"><input class=\"sk-toggleable__control sk-hidden--visually\" id=\"sk-estimator-id-1\" type=\"checkbox\" ><label for=\"sk-estimator-id-1\" class=\"sk-toggleable__label sk-toggleable__label-arrow\">GridSearchCV</label><div class=\"sk-toggleable__content\"><pre>GridSearchCV(cv=5,\n",
       "             estimator=LGBMClassifier(max_depth=5, random_state=1, verbose=-1),\n",
       "             param_grid={&#x27;max_depth&#x27;: range(1, 21)}, scoring=&#x27;accuracy&#x27;)</pre></div></div></div><div class=\"sk-parallel\"><div class=\"sk-parallel-item\"><div class=\"sk-item\"><div class=\"sk-label-container\"><div class=\"sk-label sk-toggleable\"><input class=\"sk-toggleable__control sk-hidden--visually\" id=\"sk-estimator-id-2\" type=\"checkbox\" ><label for=\"sk-estimator-id-2\" class=\"sk-toggleable__label sk-toggleable__label-arrow\">estimator: LGBMClassifier</label><div class=\"sk-toggleable__content\"><pre>LGBMClassifier(max_depth=5, random_state=1, verbose=-1)</pre></div></div></div><div class=\"sk-serial\"><div class=\"sk-item\"><div class=\"sk-estimator sk-toggleable\"><input class=\"sk-toggleable__control sk-hidden--visually\" id=\"sk-estimator-id-3\" type=\"checkbox\" ><label for=\"sk-estimator-id-3\" class=\"sk-toggleable__label sk-toggleable__label-arrow\">LGBMClassifier</label><div class=\"sk-toggleable__content\"><pre>LGBMClassifier(max_depth=5, random_state=1, verbose=-1)</pre></div></div></div></div></div></div></div></div></div></div>"
      ],
      "text/plain": [
       "GridSearchCV(cv=5,\n",
       "             estimator=LGBMClassifier(max_depth=5, random_state=1, verbose=-1),\n",
       "             param_grid={'max_depth': range(1, 21)}, scoring='accuracy')"
      ]
     },
     "execution_count": 70,
     "metadata": {},
     "output_type": "execute_result"
    }
   ],
   "source": [
    "# 학습하기(많은 시간이 소요될 수 있음)\n",
    "model.fit(x_train, y_train)"
   ]
  },
  {
   "cell_type": "code",
   "execution_count": 71,
   "metadata": {
    "id": "qsNIE2gPo7fY",
    "tags": []
   },
   "outputs": [
    {
     "name": "stdout",
     "output_type": "stream",
     "text": [
      "================================================================================\n",
      "[0.67542857 0.69257143 0.69528571 0.6955     0.69585714 0.698\n",
      " 0.69635714 0.69664286 0.69671429 0.69635714 0.69621429 0.69421429\n",
      " 0.69528571 0.69392857 0.69642857 0.69785714 0.69621429 0.69621429\n",
      " 0.69621429 0.69621429]\n",
      "--------------------------------------------------------------------------------\n",
      "최적파라미터: {'max_depth': 6}\n",
      "--------------------------------------------------------------------------------\n",
      "최고성능: 0.6980000000000001\n",
      "================================================================================\n"
     ]
    }
   ],
   "source": [
    "# 최적 파라미터, 예측 최고 성능\n",
    "print('=' * 80)\n",
    "print(model.cv_results_['mean_test_score'])\n",
    "print('-' * 80)\n",
    "print('최적파라미터:', model.best_params_)\n",
    "print('-' * 80)\n",
    "print('최고성능:', model.best_score_)\n",
    "print('=' * 80)"
   ]
  },
  {
   "cell_type": "code",
   "execution_count": 72,
   "metadata": {
    "id": "ZgjBD5qso7fY",
    "tags": []
   },
   "outputs": [
    {
     "data": {
      "image/png": "[encoded data removed]",
      "text/plain": [
       "<Figure size 500x500 with 1 Axes>"
      ]
     },
     "metadata": {
      "image/png": {
       "height": 428,
       "width": 759
      }
     },
     "output_type": "display_data"
    }
   ],
   "source": [
    "# 변수 중요도 시각화\n",
    "plt.figure(figsize=(5, 5))\n",
    "plt.barh(y=list(x), width=model.best_estimator_.feature_importances_)\n",
    "plt.show()"
   ]
  },
  {
   "cell_type": "markdown",
   "metadata": {
    "id": "fAR4emWoo7fY"
   },
   "source": [
    "# 7.성능 평가\n",
    "\n",
    "- 최적 파라미터로 학습된 모델에 대해 최종 성능 평가를 진행합니다."
   ]
  },
  {
   "cell_type": "code",
   "execution_count": 73,
   "metadata": {
    "id": "xQpyxalKo7fY",
    "tags": []
   },
   "outputs": [],
   "source": [
    "# 예측하기\n",
    "y_pred = model.predict(x_test)"
   ]
  },
  {
   "cell_type": "code",
   "execution_count": 74,
   "metadata": {
    "id": "sEGxibpDo7fY",
    "tags": []
   },
   "outputs": [
    {
     "name": "stdout",
     "output_type": "stream",
     "text": [
      "[[1953 1112]\n",
      " [ 747 2188]]\n",
      "              precision    recall  f1-score   support\n",
      "\n",
      "           0       0.72      0.64      0.68      3065\n",
      "           1       0.66      0.75      0.70      2935\n",
      "\n",
      "    accuracy                           0.69      6000\n",
      "   macro avg       0.69      0.69      0.69      6000\n",
      "weighted avg       0.69      0.69      0.69      6000\n",
      "\n"
     ]
    }
   ],
   "source": [
    "# 성능평가\n",
    "print(confusion_matrix(y_test, y_pred))\n",
    "print(classification_report(y_test, y_pred))"
   ]
  }
 ],
 "metadata": {
  "colab": {
   "provenance": []
  },
  "kernelspec": {
   "display_name": "Python 3 (ipykernel)",
   "language": "python",
   "name": "python3"
  },
  "language_info": {
   "codemirror_mode": {
    "name": "ipython",
    "version": 3
   },
   "file_extension": ".py",
   "mimetype": "text/x-python",
   "name": "python",
   "nbconvert_exporter": "python",
   "pygments_lexer": "ipython3",
   "version": "3.11.5"
  }
 },
 "nbformat": 4,
 "nbformat_minor": 4
}
