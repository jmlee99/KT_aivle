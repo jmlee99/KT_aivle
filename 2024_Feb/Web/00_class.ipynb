{
 "cells": [
  {
   "cell_type": "code",
   "execution_count": 1,
   "id": "c867dd5b",
   "metadata": {},
   "outputs": [],
   "source": [
    "# Python\n",
    "# - cpu, ram, ssd(hdd) 활용\n",
    "# 1. 변수선언 : ram 사용 : 메모리에 데이터 저장 : 식별자\n",
    "# 2. 데이터타입 : ram 효율적 사용 : int, float, bool, str, list, tuple, dict, set : 동적타이핑\n",
    "# 3. 연산자 : cpu 사용 : 산술, 비교, 논리, 할당, 멤버\n",
    "# 4. 조건문, 반복문 : 코드 작성의 효율을 높이는 문법 : if, elif, else, while, for, break, continue\n",
    "# 5. 함수 : 반복되는 코드를 묶어서 코드 작성 실행 : def, return, argument-parameter, docstring\n",
    "# 6. 클래스 : 여러개의 변수, 함수를 묶어서 코드 작성 실행 문법\n",
    "# 7. 입출력 : ssd(hdd) 사용 : pickle"
   ]
  },
  {
   "cell_type": "code",
   "execution_count": null,
   "id": "0cc7c1d7",
   "metadata": {},
   "outputs": [],
   "source": [
    "# 클래스\n",
    "# - 변수, 함수를 묶어서 코드 작성 실행\n",
    "# - 객체지향 구현 문법 : 실제세계를 모델링하여 개발하는 방법론 : 협업을 용이하게\n",
    "# - 함수 사용법 : 함수선언(코드작성) > 함수호출(코드실행)\n",
    "# - 클래스 사용법\n",
    "#   - 클래스선언(코드작성) > 객체생성(메모리사용) > 메서드(함수)호출(코드실행)\n",
    "#   - 클래스선언(설계도작성) > 객체생성(제품생산) > 메서드호출(제품사용)"
   ]
  },
  {
   "cell_type": "code",
   "execution_count": null,
   "id": "62e54453",
   "metadata": {},
   "outputs": [],
   "source": [
    "# 클래스 식별자 : PascalCase, UpperCamelCase(O) : snake_case(X) : PEP8"
   ]
  },
  {
   "cell_type": "code",
   "execution_count": 5,
   "id": "c4b1e205",
   "metadata": {},
   "outputs": [],
   "source": [
    "# 클래스선언 : 코드작성\n",
    "# 은행계좌 : Account : balance, deposit(), withdraw()\n",
    "class Account:\n",
    "    \n",
    "    balance = 10000\n",
    "    \n",
    "    def deposit(self, amount):\n",
    "        self.balance += amount\n",
    "        \n",
    "    def withdraw(self, amount):\n",
    "        self.balance -= amount"
   ]
  },
  {
   "cell_type": "code",
   "execution_count": 8,
   "id": "ca531a38",
   "metadata": {},
   "outputs": [],
   "source": [
    "# 객체생성 : 메모리사용\n",
    "acc1 = Account()\n",
    "acc2 = Account()"
   ]
  },
  {
   "cell_type": "code",
   "execution_count": 10,
   "id": "800a9eb8",
   "metadata": {},
   "outputs": [
    {
     "data": {
      "text/plain": [
       "['balance', 'deposit', 'withdraw']"
      ]
     },
     "execution_count": 10,
     "metadata": {},
     "output_type": "execute_result"
    }
   ],
   "source": [
    "# dir() : 객체에 들어있는 변수(함수) 출력\n",
    "dir(acc1)[-3:]"
   ]
  },
  {
   "cell_type": "code",
   "execution_count": 12,
   "id": "38e842ee",
   "metadata": {},
   "outputs": [
    {
     "data": {
      "text/plain": [
       "(10000, 6000)"
      ]
     },
     "execution_count": 12,
     "metadata": {},
     "output_type": "execute_result"
    }
   ],
   "source": [
    "acc2.balance = 6000\n",
    "acc1.balance, acc2.balance"
   ]
  },
  {
   "cell_type": "code",
   "execution_count": 13,
   "id": "a0d99a7f",
   "metadata": {},
   "outputs": [
    {
     "data": {
      "text/plain": [
       "(12000, 3000)"
      ]
     },
     "execution_count": 13,
     "metadata": {},
     "output_type": "execute_result"
    }
   ],
   "source": [
    "# 메서드호출 : 코드실행\n",
    "acc1.deposit(2000)\n",
    "acc2.withdraw(3000)\n",
    "acc1.balance, acc2.balance"
   ]
  },
  {
   "cell_type": "code",
   "execution_count": null,
   "id": "a9e987e6",
   "metadata": {},
   "outputs": [],
   "source": [
    "# 메서드 종류 : instance, class, static"
   ]
  },
  {
   "cell_type": "code",
   "execution_count": null,
   "id": "1958b521",
   "metadata": {},
   "outputs": [],
   "source": [
    "# spacial method : __ 사용 : 특별한 기능을 하는 메서드\n",
    "# 생성자 메서드 : __init__() : 객체가 생성될때 실행되는 메서드"
   ]
  },
  {
   "cell_type": "code",
   "execution_count": 24,
   "id": "678f3eb4",
   "metadata": {},
   "outputs": [],
   "source": [
    "# 클래스선언 : 코드작성\n",
    "class Account:\n",
    "    def __init__(self, balance): # 메서드에서 사용되는 변수의 초기값을 설정하거나 검사할때 사용\n",
    "        self.balance = balance\n",
    "    def deposit(self, amount):\n",
    "        self.balance += amount\n",
    "    def withdraw(self, amount):\n",
    "        self.balance -= amount"
   ]
  },
  {
   "cell_type": "code",
   "execution_count": 25,
   "id": "7efd03dc",
   "metadata": {},
   "outputs": [
    {
     "data": {
      "text/plain": [
       "2000"
      ]
     },
     "execution_count": 25,
     "metadata": {},
     "output_type": "execute_result"
    }
   ],
   "source": [
    "# 객체생성 : 메모리사용 : 자원사용\n",
    "acc = Account(2000)\n",
    "acc.balance"
   ]
  },
  {
   "cell_type": "code",
   "execution_count": 26,
   "id": "b967ea11",
   "metadata": {},
   "outputs": [
    {
     "data": {
      "text/plain": [
       "3000"
      ]
     },
     "execution_count": 26,
     "metadata": {},
     "output_type": "execute_result"
    }
   ],
   "source": [
    "# 메서드호출 : 코드실행\n",
    "acc.deposit(1000)\n",
    "acc.balance"
   ]
  },
  {
   "cell_type": "code",
   "execution_count": 28,
   "id": "f1a593a0",
   "metadata": {},
   "outputs": [],
   "source": [
    "# 데이터프레임 클래스 이해\n",
    "\n",
    "# pandas 패키지 코드 가져오기 : DataFrame 클래스 포함\n",
    "import pandas as pd"
   ]
  },
  {
   "cell_type": "code",
   "execution_count": 29,
   "id": "400def78",
   "metadata": {},
   "outputs": [
    {
     "data": {
      "text/html": [
       "<div>\n",
       "<style scoped>\n",
       "    .dataframe tbody tr th:only-of-type {\n",
       "        vertical-align: middle;\n",
       "    }\n",
       "\n",
       "    .dataframe tbody tr th {\n",
       "        vertical-align: top;\n",
       "    }\n",
       "\n",
       "    .dataframe thead th {\n",
       "        text-align: right;\n",
       "    }\n",
       "</style>\n",
       "<table border=\"1\" class=\"dataframe\">\n",
       "  <thead>\n",
       "    <tr style=\"text-align: right;\">\n",
       "      <th></th>\n",
       "      <th>id</th>\n",
       "      <th>name</th>\n",
       "    </tr>\n",
       "  </thead>\n",
       "  <tbody>\n",
       "    <tr>\n",
       "      <th>0</th>\n",
       "      <td>1</td>\n",
       "      <td>A</td>\n",
       "    </tr>\n",
       "    <tr>\n",
       "      <th>1</th>\n",
       "      <td>2</td>\n",
       "      <td>B</td>\n",
       "    </tr>\n",
       "  </tbody>\n",
       "</table>\n",
       "</div>"
      ],
      "text/plain": [
       "   id name\n",
       "0   1    A\n",
       "1   2    B"
      ]
     },
     "execution_count": 29,
     "metadata": {},
     "output_type": "execute_result"
    }
   ],
   "source": [
    "# 객체생성\n",
    "df = pd.DataFrame({'id':[1, 2], 'name': ['A', 'B']})\n",
    "df"
   ]
  },
  {
   "cell_type": "code",
   "execution_count": 35,
   "id": "dccb8340",
   "metadata": {},
   "outputs": [],
   "source": [
    "# 객체의 변수, 함수 출력\n",
    "# dir(df)\n",
    "\n",
    "# help : docstring(함수설명글) 출력\n",
    "# help(df.drop)"
   ]
  },
  {
   "cell_type": "code",
   "execution_count": 37,
   "id": "cb5549f7",
   "metadata": {},
   "outputs": [],
   "source": [
    "# 메서드 실행\n",
    "# df.drop()"
   ]
  },
  {
   "cell_type": "code",
   "execution_count": 40,
   "id": "814760c1",
   "metadata": {},
   "outputs": [
    {
     "data": {
      "text/plain": [
       "(40, 40)"
      ]
     },
     "execution_count": 40,
     "metadata": {},
     "output_type": "execute_result"
    }
   ],
   "source": [
    "# Marine : health, ap, attack()\n",
    "class Marine:\n",
    "    health, ap = 40, 5\n",
    "    def attack(self, target):\n",
    "        target.health -= self.ap\n",
    "        \n",
    "m1 = Marine()\n",
    "m2 = Marine()\n",
    "m1.health, m2.health"
   ]
  },
  {
   "cell_type": "code",
   "execution_count": 41,
   "id": "6f22a858",
   "metadata": {},
   "outputs": [
    {
     "data": {
      "text/plain": [
       "(40, 35)"
      ]
     },
     "execution_count": 41,
     "metadata": {},
     "output_type": "execute_result"
    }
   ],
   "source": [
    "m1.attack(m2)\n",
    "m1.health, m2.health"
   ]
  },
  {
   "cell_type": "code",
   "execution_count": 38,
   "id": "e878d04f",
   "metadata": {},
   "outputs": [],
   "source": [
    "# 클래스는 사용자정의 데이터타입이다."
   ]
  },
  {
   "cell_type": "code",
   "execution_count": 43,
   "id": "714841a7",
   "metadata": {},
   "outputs": [
    {
     "data": {
      "text/plain": [
       "__main__.Account"
      ]
     },
     "execution_count": 43,
     "metadata": {},
     "output_type": "execute_result"
    }
   ],
   "source": [
    "# acc 객체 클래스 : Account\n",
    "acc = Account(1000)\n",
    "\n",
    "# acc 객체 데이터타입 : Account\n",
    "type(acc)\n",
    "\n",
    "# > 클래스는 데이터타입이다.\n",
    "\n",
    "# Account 객체 만든사람 : 우리가 직접 : 커스터마이즈 : 사용자정의\n",
    "# > 클래스는 사용자정의 데이터타입이다."
   ]
  },
  {
   "cell_type": "code",
   "execution_count": 44,
   "id": "99545369",
   "metadata": {},
   "outputs": [
    {
     "data": {
      "text/plain": [
       "['balance', 'deposit', 'withdraw']"
      ]
     },
     "execution_count": 44,
     "metadata": {},
     "output_type": "execute_result"
    }
   ],
   "source": [
    "# Account 변수(함수) : balance, deposit(), withdraw()\n",
    "dir(acc)[-3:]"
   ]
  },
  {
   "cell_type": "code",
   "execution_count": 45,
   "id": "8cc5be86",
   "metadata": {},
   "outputs": [
    {
     "data": {
      "text/plain": [
       "(str, list)"
      ]
     },
     "execution_count": 45,
     "metadata": {},
     "output_type": "execute_result"
    }
   ],
   "source": [
    "# 데이터타입(=클래스) : str, list\n",
    "# 데이터타입(클래스)가 다르다는 의미 : 사용가능한 변수(함수)가 다름\n",
    "data1 = 'python'\n",
    "data2 = [1, 3, 2]\n",
    "type(data1), type(data2)"
   ]
  },
  {
   "cell_type": "code",
   "execution_count": 47,
   "id": "c7aa388e",
   "metadata": {},
   "outputs": [
    {
     "data": {
      "text/plain": [
       "['translate', 'upper', 'zfill']"
      ]
     },
     "execution_count": 47,
     "metadata": {},
     "output_type": "execute_result"
    }
   ],
   "source": [
    "dir(data1)[-3:]"
   ]
  },
  {
   "cell_type": "code",
   "execution_count": 48,
   "id": "c61ef9b5",
   "metadata": {},
   "outputs": [
    {
     "name": "stdout",
     "output_type": "stream",
     "text": [
      "Help on built-in function upper:\n",
      "\n",
      "upper() method of builtins.str instance\n",
      "    Return a copy of the string converted to uppercase.\n",
      "\n"
     ]
    }
   ],
   "source": [
    "help(data1.upper)"
   ]
  },
  {
   "cell_type": "code",
   "execution_count": 50,
   "id": "97695af1",
   "metadata": {},
   "outputs": [
    {
     "data": {
      "text/plain": [
       "['remove', 'reverse', 'sort']"
      ]
     },
     "execution_count": 50,
     "metadata": {},
     "output_type": "execute_result"
    }
   ],
   "source": [
    "dir(data2)[-3:]"
   ]
  },
  {
   "cell_type": "code",
   "execution_count": 51,
   "id": "864adec1",
   "metadata": {},
   "outputs": [
    {
     "name": "stdout",
     "output_type": "stream",
     "text": [
      "Help on built-in function sort:\n",
      "\n",
      "sort(*, key=None, reverse=False) method of builtins.list instance\n",
      "    Sort the list in ascending order and return None.\n",
      "    \n",
      "    The sort is in-place (i.e. the list itself is modified) and stable (i.e. the\n",
      "    order of two equal elements is maintained).\n",
      "    \n",
      "    If a key function is given, apply it once to each list item and sort them,\n",
      "    ascending or descending, according to their function values.\n",
      "    \n",
      "    The reverse flag can be set to sort in descending order.\n",
      "\n"
     ]
    }
   ],
   "source": [
    "help(data2.sort)"
   ]
  }
 ],
 "metadata": {
  "kernelspec": {
   "display_name": "Python 3 (ipykernel)",
   "language": "python",
   "name": "python3"
  },
  "language_info": {
   "codemirror_mode": {
    "name": "ipython",
    "version": 3
   },
   "file_extension": ".py",
   "mimetype": "text/x-python",
   "name": "python",
   "nbconvert_exporter": "python",
   "pygments_lexer": "ipython3",
   "version": "3.11.5"
  }
 },
 "nbformat": 4,
 "nbformat_minor": 5
}
